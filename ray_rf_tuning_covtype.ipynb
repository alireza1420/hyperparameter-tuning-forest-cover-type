{
 "cells": [
  {
   "cell_type": "markdown",
   "id": "25d0aa4e",
   "metadata": {},
   "source": [
    "# 🌲 Ray Tune - Random Forest Hyperparameter Tuning (CoverType Dataset)"
   ]
  },
  {
   "cell_type": "markdown",
   "id": "e343070b",
   "metadata": {},
   "source": [
    "## 📦 Imports"
   ]
  },
  {
   "cell_type": "code",
   "execution_count": null,
   "id": "a2f5228e",
   "metadata": {},
   "outputs": [],
   "source": [
    "import ray\n",
    "from ray import tune\n",
    "from sklearn.datasets import fetch_covtype\n",
    "from sklearn.ensemble import RandomForestClassifier\n",
    "from sklearn.metrics import accuracy_score\n",
    "from sklearn.model_selection import train_test_split\n"
   ]
  },
  {
   "cell_type": "markdown",
   "id": "d15df29e",
   "metadata": {},
   "source": [
    "## 🚀 Connect to Ray Cluster"
   ]
  },
  {
   "cell_type": "code",
   "execution_count": null,
   "id": "76d75ee2",
   "metadata": {},
   "outputs": [],
   "source": [
    "ray.init(address=\"auto\")  # Automatically connects to your Ray cluster\n"
   ]
  },
  {
   "cell_type": "markdown",
   "id": "fe5b74f6",
   "metadata": {},
   "source": [
    "## 🎯 Define Training Function for Random Forest"
   ]
  },
  {
   "cell_type": "code",
   "execution_count": null,
   "id": "688c4634",
   "metadata": {},
   "outputs": [],
   "source": [
    "def train_model(config):\n",
    "    cov = fetch_covtype()\n",
    "    X, y = cov.data[:10000], cov.target[:10000]\n",
    "    X_train, X_test, y_train, y_test = train_test_split(X, y, test_size=0.2, random_state=42)\n",
    "\n",
    "    model = RandomForestClassifier(\n",
    "        n_estimators=config[\"n_estimators\"],\n",
    "        max_depth=config[\"max_depth\"],\n",
    "        random_state=42\n",
    "    )\n",
    "    model.fit(X_train, y_train)\n",
    "    y_pred = model.predict(X_test)\n",
    "    acc = accuracy_score(y_test, y_pred)\n",
    "    tune.report(accuracy=acc)\n"
   ]
  },
  {
   "cell_type": "markdown",
   "id": "a48de46f",
   "metadata": {},
   "source": [
    "## 🔧 Run Hyperparameter Tuning"
   ]
  },
  {
   "cell_type": "code",
   "execution_count": null,
   "id": "00592e98",
   "metadata": {},
   "outputs": [],
   "source": [
    "search_space = {\n",
    "    \"n_estimators\": tune.choice([50, 100, 200]),\n",
    "    \"max_depth\": tune.choice([5, 10, 20, None]),\n",
    "}\n",
    "\n",
    "tuner = tune.Tuner(\n",
    "    train_model,\n",
    "    param_space=search_space\n",
    ")\n",
    "\n",
    "results = tuner.fit()\n"
   ]
  },
  {
   "cell_type": "markdown",
   "id": "f2beba14",
   "metadata": {},
   "source": [
    "## ✅ Best Result"
   ]
  },
  {
   "cell_type": "code",
   "execution_count": null,
   "id": "b2000d7c",
   "metadata": {},
   "outputs": [],
   "source": [
    "best = results.get_best_result(metric=\"accuracy\", mode=\"max\")\n",
    "print(\"Best config:\", best.config)\n",
    "print(\"Best accuracy:\", best.metrics['accuracy'])\n"
   ]
  }
 ],
 "metadata": {},
 "nbformat": 4,
 "nbformat_minor": 5
}